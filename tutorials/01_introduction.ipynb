{
 "cells": [
  {
   "cell_type": "markdown",
   "metadata": {
    "Collapsed": "false"
   },
   "source": [
    "# [NTDS'19] tutorial 1: introduction\n",
    "[ntds'19]: https://github.com/mdeff/ntds_2019\n",
    "\n",
    "[Michaël Defferrard](https://deff.ch), [EPFL LTS2](https://lts2.epfl.ch)"
   ]
  },
  {
   "cell_type": "markdown",
   "metadata": {
    "Collapsed": "false"
   },
   "source": [
    "## Content\n",
    "\n",
    "1. [Conda and Anaconda](#conda)\n",
    "1. [Python](#python)\n",
    "1. [Jupyter notebooks](#jupyter)\n",
    "1. [Version control with git](#git)\n",
    "1. [Scientific Python](#scipy)\n",
    "1. [Ressources to improve your Python skills](#improve)"
   ]
  },
  {
   "cell_type": "markdown",
   "metadata": {
    "Collapsed": "false"
   },
   "source": [
    "<a id='conda'></a>\n",
    "## 1 Conda and Anaconda\n",
    "\n",
    "![conda](figures/conda.jpg)\n",
    "\n",
    "[Conda](https://conda.io) is a package and environment manager. It allows you to create environments, ideally one per project, and install packages into them. It is available for Windows, macOS and Linux.\n",
    "\n",
    "[Anaconda](https://anaconda.org/download) is a commercial distribution that comes with many of the packages used by data scientists. [Miniconda](https://conda.io/miniconda.html) is a lighter open distribution. Both install `conda`, from which you'll be able to install many packages.\n",
    "\n",
    "[conda-forge](https://conda-forge.org) is a community-driven collection of recipes to build conda packages. It contains many more packages than the official defaults channel."
   ]
  },
  {
   "cell_type": "markdown",
   "metadata": {
    "Collapsed": "false"
   },
   "source": [
    "Get basic information from your conda installation:"
   ]
  },
  {
   "cell_type": "code",
   "execution_count": 1,
   "metadata": {
    "Collapsed": "false"
   },
   "outputs": [
    {
     "name": "stdout",
     "output_type": "stream",
     "text": [
      "\n",
      "     active environment : base\n",
      "    active env location : /Users/jonathandoenz/anaconda3\n",
      "            shell level : 1\n",
      "       user config file : /Users/jonathandoenz/.condarc\n",
      " populated config files : /Users/jonathandoenz/.condarc\n",
      "          conda version : 4.7.12\n",
      "    conda-build version : 3.17.8\n",
      "         python version : 3.7.3.final.0\n",
      "       virtual packages : \n",
      "       base environment : /Users/jonathandoenz/anaconda3  (writable)\n",
      "           channel URLs : https://repo.anaconda.com/pkgs/main/osx-64\n",
      "                          https://repo.anaconda.com/pkgs/main/noarch\n",
      "                          https://repo.anaconda.com/pkgs/r/osx-64\n",
      "                          https://repo.anaconda.com/pkgs/r/noarch\n",
      "          package cache : /Users/jonathandoenz/anaconda3/pkgs\n",
      "                          /Users/jonathandoenz/.conda/pkgs\n",
      "       envs directories : /Users/jonathandoenz/anaconda3/envs\n",
      "                          /Users/jonathandoenz/.conda/envs\n",
      "               platform : osx-64\n",
      "             user-agent : conda/4.7.12 requests/2.22.0 CPython/3.7.3 Darwin/17.7.0 OSX/10.13.6\n",
      "                UID:GID : 502:20\n",
      "             netrc file : None\n",
      "           offline mode : False\n",
      "\n"
     ]
    }
   ],
   "source": [
    "!conda info"
   ]
  },
  {
   "cell_type": "markdown",
   "metadata": {
    "Collapsed": "false"
   },
   "source": [
    "List your environments:"
   ]
  },
  {
   "cell_type": "code",
   "execution_count": 2,
   "metadata": {
    "Collapsed": "false"
   },
   "outputs": [
    {
     "name": "stdout",
     "output_type": "stream",
     "text": [
      "# conda environments:\n",
      "#\n",
      "base                  *  /Users/jonathandoenz/anaconda3\n",
      "ntds_2019                /Users/jonathandoenz/anaconda3/envs/ntds_2019\n",
      "\n"
     ]
    }
   ],
   "source": [
    "!conda env list"
   ]
  },
  {
   "cell_type": "markdown",
   "metadata": {
    "Collapsed": "false"
   },
   "source": [
    "List the packages in an environment:"
   ]
  },
  {
   "cell_type": "code",
   "execution_count": 3,
   "metadata": {
    "Collapsed": "false",
    "collapsed": true,
    "jupyter": {
     "outputs_hidden": true
    }
   },
   "outputs": [
    {
     "name": "stdout",
     "output_type": "stream",
     "text": [
      "# packages in environment at /Users/jonathandoenz/anaconda3/envs/ntds_2019:\n",
      "#\n",
      "# Name                    Version                   Build  Channel\n",
      "appnope                   0.1.0                 py37_1000    conda-forge\n",
      "attrs                     19.1.0                     py_0    conda-forge\n",
      "backcall                  0.1.0                      py_0    conda-forge\n",
      "bleach                    3.1.0                      py_0    conda-forge\n",
      "bzip2                     1.0.8                h01d97ff_1    conda-forge\n",
      "ca-certificates           2019.9.11            hecc5488_0    conda-forge\n",
      "certifi                   2019.9.11                py37_0    conda-forge\n",
      "cffi                      1.12.3           py37hccf1714_0    conda-forge\n",
      "cpuonly                   1.0                           0    pytorch\n",
      "curl                      7.65.3               h22ea746_0    conda-forge\n",
      "cycler                    0.10.0                     py_1    conda-forge\n",
      "decorator                 4.4.0                      py_0    conda-forge\n",
      "defusedxml                0.5.0                      py_1    conda-forge\n",
      "dgl                       0.3.1                    py37_0    dglteam\n",
      "entrypoints               0.3                   py37_1000    conda-forge\n",
      "expat                     2.2.5             h6de7cb9_1003    conda-forge\n",
      "freetype                  2.10.0               h24853df_1    conda-forge\n",
      "gettext                   0.19.8.1          h46ab8bc_1002    conda-forge\n",
      "git                       2.23.0          pl526hbdf3604_2    conda-forge\n",
      "intel-openmp              2019.4                      233  \n",
      "ipykernel                 5.1.2            py37h5ca1d4c_0    conda-forge\n",
      "ipython                   7.8.0            py37h5ca1d4c_0    conda-forge\n",
      "ipython_genutils          0.2.0                      py_1    conda-forge\n",
      "jedi                      0.15.1                   py37_0    conda-forge\n",
      "jinja2                    2.10.1                     py_0    conda-forge\n",
      "joblib                    0.13.2                     py_0    conda-forge\n",
      "json5                     0.8.5                      py_0    conda-forge\n",
      "jsonschema                3.0.2                    py37_0    conda-forge\n",
      "jupyter_client            5.3.1                      py_0    conda-forge\n",
      "jupyter_core              4.4.0                      py_0    conda-forge\n",
      "jupyterlab                1.1.3                      py_0    conda-forge\n",
      "jupyterlab_server         1.0.6                      py_0    conda-forge\n",
      "kiwisolver                1.1.0            py37h770b8ee_0    conda-forge\n",
      "krb5                      1.16.3            hcfa6398_1001    conda-forge\n",
      "libblas                   3.8.0               12_openblas    conda-forge\n",
      "libcblas                  3.8.0               12_openblas    conda-forge\n",
      "libcurl                   7.65.3               h16faf7d_0    conda-forge\n",
      "libcxx                    9.0.0                         0    conda-forge\n",
      "libcxxabi                 9.0.0                         0    conda-forge\n",
      "libedit                   3.1.20170329      hcfe32e1_1001    conda-forge\n",
      "libffi                    3.2.1             h6de7cb9_1006    conda-forge\n",
      "libgfortran               4.0.0                         2    conda-forge\n",
      "libiconv                  1.15              h01d97ff_1005    conda-forge\n",
      "liblapack                 3.8.0               12_openblas    conda-forge\n",
      "libopenblas               0.3.7                h4bb4525_1    conda-forge\n",
      "libpng                    1.6.37               h2573ce8_0    conda-forge\n",
      "libsodium                 1.0.17               h01d97ff_0    conda-forge\n",
      "libssh2                   1.8.2                hcdc9a53_2    conda-forge\n",
      "llvm-openmp               8.0.1                h770b8ee_0    conda-forge\n",
      "markupsafe                1.1.1            py37h1de35cc_0    conda-forge\n",
      "matplotlib                3.1.1                    py37_1    conda-forge\n",
      "matplotlib-base           3.1.1            py37h3a684a6_1    conda-forge\n",
      "mistune                   0.8.4           py37h1de35cc_1000    conda-forge\n",
      "mkl                       2019.4                      233  \n",
      "nbconvert                 5.6.0                    py37_1    conda-forge\n",
      "nbformat                  4.4.0                      py_1    conda-forge\n",
      "ncurses                   6.1               h0a44026_1002    conda-forge\n",
      "networkx                  2.3                        py_0    conda-forge\n",
      "ninja                     1.9.0                h04f5b5a_0    conda-forge\n",
      "notebook                  6.0.1                    py37_0    conda-forge\n",
      "numpy                     1.15.4          py37hbb3c62a_1002    conda-forge\n",
      "openssl                   1.1.1c               h01d97ff_0    conda-forge\n",
      "pandas                    0.25.1           py37h86efe34_0    conda-forge\n",
      "pandoc                    2.7.3                         0    conda-forge\n",
      "pandocfilters             1.4.2                      py_1    conda-forge\n",
      "parso                     0.5.1                      py_0    conda-forge\n",
      "pcre                      8.41              h0a44026_1003    conda-forge\n",
      "perl                      5.26.2            haec8ef5_1006    conda-forge\n",
      "pexpect                   4.7.0                    py37_0    conda-forge\n",
      "pickleshare               0.7.5                 py37_1000    conda-forge\n",
      "pip                       19.2.3                   py37_0    conda-forge\n",
      "prometheus_client         0.7.1                      py_0    conda-forge\n",
      "prompt_toolkit            2.0.9                      py_0    conda-forge\n",
      "ptyprocess                0.6.0                   py_1001    conda-forge\n",
      "pycparser                 2.19                     py37_1    conda-forge\n",
      "pygments                  2.4.2                      py_0    conda-forge\n",
      "pygsp                     0.5.1                      py_0    conda-forge\n",
      "pyparsing                 2.4.2                      py_0    conda-forge\n",
      "pyrsistent                0.15.4           py37h01d97ff_0    conda-forge\n",
      "python                    3.7.3                h93065d6_1    conda-forge\n",
      "python-dateutil           2.8.0                      py_0    conda-forge\n",
      "pytorch                   1.2.0                   py3.7_0    pytorch\n",
      "pytz                      2019.2                     py_0    conda-forge\n",
      "pyzmq                     18.1.0           py37hee98d25_0    conda-forge\n",
      "readline                  8.0                  hcfe32e1_0    conda-forge\n",
      "scikit-learn              0.21.3           py37hd4ffd6c_0    conda-forge\n",
      "scipy                     1.3.1            py37h7e0e109_2    conda-forge\n",
      "send2trash                1.5.0                      py_0    conda-forge\n",
      "setuptools                41.2.0                   py37_0    conda-forge\n",
      "six                       1.12.0                py37_1000    conda-forge\n",
      "sqlite                    3.29.0               hb7d70f7_1    conda-forge\n",
      "terminado                 0.8.2                    py37_0    conda-forge\n",
      "testpath                  0.4.2                   py_1001    conda-forge\n",
      "tk                        8.6.9             h2573ce8_1003    conda-forge\n",
      "tornado                   6.0.3            py37h01d97ff_0    conda-forge\n",
      "traitlets                 4.3.2                 py37_1000    conda-forge\n",
      "wcwidth                   0.1.7                      py_1    conda-forge\n",
      "webencodings              0.5.1                      py_1    conda-forge\n",
      "wheel                     0.33.6                   py37_0    conda-forge\n",
      "xz                        5.2.4             h1de35cc_1001    conda-forge\n",
      "zeromq                    4.3.2                h6de7cb9_2    conda-forge\n",
      "zlib                      1.2.11            h01d97ff_1006    conda-forge\n"
     ]
    }
   ],
   "source": [
    "!conda list -n ntds_2019"
   ]
  },
  {
   "cell_type": "markdown",
   "metadata": {
    "Collapsed": "false"
   },
   "source": [
    "Install packages in an environment. The package will be installed in the activated environment if an environment name is not given."
   ]
  },
  {
   "cell_type": "code",
   "execution_count": 4,
   "metadata": {
    "Collapsed": "false"
   },
   "outputs": [
    {
     "name": "stdout",
     "output_type": "stream",
     "text": [
      "Collecting package metadata (repodata.json): done\n",
      "Solving environment: done\n",
      "\n",
      "## Package Plan ##\n",
      "\n",
      "  environment location: /Users/jonathandoenz/anaconda3/envs/ntds_2019\n",
      "\n",
      "  added / updated specs:\n",
      "    - git\n",
      "\n",
      "\n",
      "The following packages will be UPDATED:\n",
      "\n",
      "  openssl            conda-forge::openssl-1.1.1c-h01d97ff_0 --> pkgs/main::openssl-1.1.1d-h1de35cc_2\n",
      "\n",
      "The following packages will be SUPERSEDED by a higher-priority channel:\n",
      "\n",
      "  ca-certificates    conda-forge::ca-certificates-2019.9.1~ --> pkgs/main::ca-certificates-2019.8.28-0\n",
      "  certifi                                       conda-forge --> pkgs/main\n",
      "\n",
      "\n",
      "Proceed ([y]/n)? ^C\n"
     ]
    }
   ],
   "source": [
    "!conda install -n ntds_2019 git"
   ]
  },
  {
   "cell_type": "markdown",
   "metadata": {
    "Collapsed": "false"
   },
   "source": [
    "**Want to know more?** Look at the [conda user guide](https://conda.io/docs/user-guide/overview.html)."
   ]
  },
  {
   "cell_type": "markdown",
   "metadata": {
    "Collapsed": "false"
   },
   "source": [
    "<a id='python'></a>\n",
    "## 2 Python\n",
    "\n",
    "[Python](https://python.org) is one of the main programming languages used by data scientists, along [R](https://www.r-project.org) and [Julia](https://julialang.org). As an open and general purpose language, it is replacing [MATLAB](https://mathworks.com/products/matlab.html) in many scientific and engineering fields. Python is the most popular language used for machine learning.\n",
    "\n",
    "Below are very basic examples of Python code. **Want to learn more?** Look at the [Python Tutorial](https://docs.python.org/3/tutorial/index.html)."
   ]
  },
  {
   "cell_type": "markdown",
   "metadata": {
    "Collapsed": "false"
   },
   "source": [
    "### Control flow"
   ]
  },
  {
   "cell_type": "code",
   "execution_count": 5,
   "metadata": {
    "Collapsed": "false"
   },
   "outputs": [
    {
     "name": "stdout",
     "output_type": "stream",
     "text": [
      "hello\n"
     ]
    }
   ],
   "source": [
    "if 1 == 1:\n",
    "    print('hello')"
   ]
  },
  {
   "cell_type": "code",
   "execution_count": 6,
   "metadata": {
    "Collapsed": "false"
   },
   "outputs": [
    {
     "name": "stdout",
     "output_type": "stream",
     "text": [
      "0\n",
      "1\n",
      "2\n",
      "3\n",
      "4\n"
     ]
    }
   ],
   "source": [
    "for i in range(5):\n",
    "    print(i)"
   ]
  },
  {
   "cell_type": "code",
   "execution_count": 7,
   "metadata": {
    "Collapsed": "false"
   },
   "outputs": [
    {
     "name": "stdout",
     "output_type": "stream",
     "text": [
      "4\n",
      "3\n"
     ]
    }
   ],
   "source": [
    "a = 4\n",
    "while a > 2:\n",
    "    print(a)\n",
    "    a -= 1"
   ]
  },
  {
   "cell_type": "markdown",
   "metadata": {
    "Collapsed": "false"
   },
   "source": [
    "### Data structures"
   ]
  },
  {
   "cell_type": "markdown",
   "metadata": {
    "Collapsed": "false"
   },
   "source": [
    "Lists are mutable, i.e., we can change the objects they store."
   ]
  },
  {
   "cell_type": "code",
   "execution_count": 8,
   "metadata": {
    "Collapsed": "false"
   },
   "outputs": [
    {
     "name": "stdout",
     "output_type": "stream",
     "text": [
      "[1, 2, 'hello', 3.2]\n",
      "[1, 2, 'world', 3.2]\n"
     ]
    }
   ],
   "source": [
    "a = [1, 2, 'hello', 3.2]\n",
    "print(a)\n",
    "a[2] = 'world'\n",
    "print(a)"
   ]
  },
  {
   "cell_type": "markdown",
   "metadata": {
    "Collapsed": "false"
   },
   "source": [
    "Tuples are not mutable."
   ]
  },
  {
   "cell_type": "code",
   "execution_count": 9,
   "metadata": {
    "Collapsed": "false"
   },
   "outputs": [
    {
     "data": {
      "text/plain": [
       "(1, 2, 'hello')"
      ]
     },
     "execution_count": 9,
     "metadata": {},
     "output_type": "execute_result"
    }
   ],
   "source": [
    "(1, 2, 'hello')"
   ]
  },
  {
   "cell_type": "markdown",
   "metadata": {
    "Collapsed": "false"
   },
   "source": [
    "Sets contain unique values."
   ]
  },
  {
   "cell_type": "code",
   "execution_count": 10,
   "metadata": {
    "Collapsed": "false"
   },
   "outputs": [
    {
     "name": "stdout",
     "output_type": "stream",
     "text": [
      "{1, 2, 3, 4}\n",
      "{2, 4}\n"
     ]
    }
   ],
   "source": [
    "a = {1, 2, 3, 3, 4}\n",
    "print(a)\n",
    "print(a.intersection({2, 4, 6}))"
   ]
  },
  {
   "cell_type": "markdown",
   "metadata": {
    "Collapsed": "false"
   },
   "source": [
    "Dictionaries map keys to values."
   ]
  },
  {
   "cell_type": "code",
   "execution_count": 11,
   "metadata": {
    "Collapsed": "false"
   },
   "outputs": [
    {
     "data": {
      "text/plain": [
       "2"
      ]
     },
     "execution_count": 11,
     "metadata": {},
     "output_type": "execute_result"
    }
   ],
   "source": [
    "a = {'one': 1, 'two': 2, 'three': 3}\n",
    "a['two']"
   ]
  },
  {
   "cell_type": "markdown",
   "metadata": {
    "Collapsed": "false"
   },
   "source": [
    "### Functions"
   ]
  },
  {
   "cell_type": "code",
   "execution_count": 12,
   "metadata": {
    "Collapsed": "false"
   },
   "outputs": [
    {
     "data": {
      "text/plain": [
       "5"
      ]
     },
     "execution_count": 12,
     "metadata": {},
     "output_type": "execute_result"
    }
   ],
   "source": [
    "def add(a, b):\n",
    "    return a + b\n",
    "\n",
    "add(1, 4)"
   ]
  },
  {
   "cell_type": "markdown",
   "metadata": {
    "Collapsed": "false"
   },
   "source": [
    "### Classes"
   ]
  },
  {
   "cell_type": "code",
   "execution_count": 13,
   "metadata": {
    "Collapsed": "false"
   },
   "outputs": [
    {
     "data": {
      "text/plain": [
       "30"
      ]
     },
     "execution_count": 13,
     "metadata": {},
     "output_type": "execute_result"
    }
   ],
   "source": [
    "class A:\n",
    "    d = 10\n",
    "    \n",
    "    def add(self, c):\n",
    "        return self.d + c\n",
    "\n",
    "a = A()\n",
    "a.add(20)"
   ]
  },
  {
   "cell_type": "code",
   "execution_count": 14,
   "metadata": {
    "Collapsed": "false"
   },
   "outputs": [
    {
     "name": "stdout",
     "output_type": "stream",
     "text": [
      "30\n",
      "-10\n"
     ]
    }
   ],
   "source": [
    "class B(A):\n",
    "    def sub(self, c):\n",
    "        return self.d - c\n",
    "\n",
    "b = B()\n",
    "print(b.add(20))\n",
    "print(b.sub(20))"
   ]
  },
  {
   "cell_type": "markdown",
   "metadata": {
    "Collapsed": "false"
   },
   "source": [
    "### Dynamic typing"
   ]
  },
  {
   "cell_type": "code",
   "execution_count": 15,
   "metadata": {
    "Collapsed": "false"
   },
   "outputs": [
    {
     "data": {
      "text/plain": [
       "'abc'"
      ]
     },
     "execution_count": 15,
     "metadata": {},
     "output_type": "execute_result"
    }
   ],
   "source": [
    "x = 1\n",
    "x = 'abc'\n",
    "x"
   ]
  },
  {
   "cell_type": "code",
   "execution_count": 16,
   "metadata": {
    "Collapsed": "false"
   },
   "outputs": [
    {
     "data": {
      "text/plain": [
       "'hello'"
      ]
     },
     "execution_count": 16,
     "metadata": {},
     "output_type": "execute_result"
    }
   ],
   "source": [
    "add('hel', 'lo')"
   ]
  },
  {
   "cell_type": "code",
   "execution_count": 17,
   "metadata": {
    "Collapsed": "false"
   },
   "outputs": [
    {
     "data": {
      "text/plain": [
       "[1, 2, 3, 4, 5]"
      ]
     },
     "execution_count": 17,
     "metadata": {},
     "output_type": "execute_result"
    }
   ],
   "source": [
    "add([1, 2], [3, 4, 5])"
   ]
  },
  {
   "cell_type": "code",
   "execution_count": 18,
   "metadata": {
    "Collapsed": "false"
   },
   "outputs": [
    {
     "name": "stdout",
     "output_type": "stream",
     "text": [
      "130\n",
      "120 items\n"
     ]
    }
   ],
   "source": [
    "print(int('120') + 10)\n",
    "print(str(120) + ' items')"
   ]
  },
  {
   "cell_type": "markdown",
   "metadata": {
    "Collapsed": "false"
   },
   "source": [
    "<a id='jupyter'></a>\n",
    "## 3 Jupyter notebooks\n",
    "\n",
    "[Jupyter](https://jupyter.org) notebooks allow to mix text, math, code, and results (numerical or figures) in a **single document**. It is intended for interactive computing and is very useful to explore data, teach concepts, create reports. Code can be written in many programming languages, including Python, Julia, R, MATLAB, C++."
   ]
  },
  {
   "cell_type": "markdown",
   "metadata": {
    "Collapsed": "false"
   },
   "source": [
    "### Markdown text (and Latex math)\n",
    "\n",
    "A list:\n",
    "\n",
    "* item\n",
    "* item\n",
    "\n",
    "Text in a paragraph. Text can be *italic*, **bold**, `verbatim`. We can define [hyperlinks](https://github.com/mdeff/ntds_2019).\n",
    "\n",
    "A numbered list:\n",
    "\n",
    "1. item\n",
    "1. item\n",
    "\n",
    "Some inline math: $x = \\frac12$\n",
    "\n",
    "Some display math:\n",
    "$$ f(x) = \\frac{e^{-x}}{4} $$"
   ]
  },
  {
   "cell_type": "markdown",
   "metadata": {
    "Collapsed": "false"
   },
   "source": [
    "### Code and results"
   ]
  },
  {
   "cell_type": "code",
   "execution_count": 19,
   "metadata": {
    "Collapsed": "false"
   },
   "outputs": [
    {
     "data": {
      "text/plain": [
       "6.0"
      ]
     },
     "execution_count": 19,
     "metadata": {},
     "output_type": "execute_result"
    }
   ],
   "source": [
    "20 / 100 * 30"
   ]
  },
  {
   "cell_type": "markdown",
   "metadata": {
    "Collapsed": "false"
   },
   "source": [
    "### Inline figures"
   ]
  },
  {
   "cell_type": "code",
   "execution_count": 20,
   "metadata": {
    "Collapsed": "false"
   },
   "outputs": [
    {
     "data": {
      "image/png": "[encoded data removed]",
      "text/plain": [
       "<Figure size 432x288 with 1 Axes>"
      ]
     },
     "metadata": {
      "needs_background": "light"
     },
     "output_type": "display_data"
    }
   ],
   "source": [
    "%matplotlib inline\n",
    "\n",
    "import numpy as np\n",
    "import matplotlib.pyplot as plt\n",
    "\n",
    "y = np.random.uniform(size=100)\n",
    "plt.plot(y);"
   ]
  },
  {
   "cell_type": "markdown",
   "metadata": {
    "Collapsed": "false"
   },
   "source": [
    "**Want to learn more?** Look at the [documentation](https://jupyter.org/documentation)."
   ]
  },
  {
   "cell_type": "markdown",
   "metadata": {
    "Collapsed": "false"
   },
   "source": [
    "<a id='git'></a>\n",
    "## 4 Version control with git\n",
    "\n",
    "![git](figures/git.jpg)\n",
    "\n",
    "[git](https://git-scm.com) is an open-source distributed version control system. It allows users to collaborate on projects (not only software!), synchronize and track their changes. It is most often used with an hosting service such as [GitHub](https://github.com) or [GitLab](https://about.gitlab.com). Those services add many tools to facilitate issue tracking, code review, continuous integration, etc.\n",
    "\n",
    "* Decentralized: draw on black board. Make it clear that all repos are the same.\n",
    "* Commit are local. We push / pull to sync with other repos.\n",
    "* Git is often used in a centralized fashion, with github / gitlab being the syncing point for everybody. It does not have to be, but github is easier to access than my laptop.\n",
    "* **Want to learn more?** Try this [interactive guide](https://try.github.io) or look at the more involved [user manual](https://git-scm.com/docs).\n",
    "\n",
    "### Basic usage\n",
    "\n",
    "1. Install with `conda install git`.\n",
    "1. Everybody make a clean clone (to be erased afterwards). Use HTTPS if not logged on GitHub.\n",
    "1. I add a fake file.\n",
    "1. I commit. It is not on github.\n",
    "1. I push. It is on github.\n",
    "1. They pull. They see it on their machines.\n",
    "\n",
    "Two kinds of users:\n",
    "* Those who don't want to use git, just do `git pull` before every lab. **Do not modify the content of the folder.** That is like your inbox, you only copy files from there and modify them outside.\n",
    "* The power users make a branch for each of their solutions!\n",
    "\n",
    "### Power users\n",
    "\n",
    "* Make a branch: `git branch assignment1_solution`\n",
    "* Work on that branch: `git checkout assignment1_solution`\n",
    "* Do and commit your modifications. You get a history of your changes!\n",
    "* Come back to master with `git checkout master` and get new stuff from the TAs with `git pull`. Again, you should never modify master (you could do it locally, but only the TAs have write access to the github repo).\n",
    "\n",
    "### Super-power users\n",
    "\n",
    "Those who want to backup or share their work on github.\n",
    "\n",
    "1. Create a github account.\n",
    "1. Create a repository (you could have forked mdeff/ntds_2019).\n",
    "1. Add a remote repo: `git remote add my_repo git@github.com:username/ntds_2019.git`\n",
    "1. Push your own branches to your repo: `git push -u my_repo milestone1_solution`.\n",
    "1. Go on your github and see your changes.\n",
    "\n",
    "### Contributors\n",
    "\n",
    "Same as before, except that you can now make a pull request for your changes to be integrated into master and be available to all of us.\n",
    "\n",
    "### Collaborate with git and github\n",
    "\n",
    "All the code for your projects will have to be handled as a repository on GitHub.\n",
    "While you don't have to collaborate with git (i.e., you can create a single commit at the end with all of your code), we highly recommend you to use it.\n",
    "It is a very good way to manage your project, as it allows you to come back to previous states, synchronize your changes without being lost with versions, track who did what, discuss issues and code, etc.\n",
    "As such, we recommend you to use git from the start to get the basics. Once you feel ready, create a repository for your project and start working on an assignment there."
   ]
  },
  {
   "cell_type": "markdown",
   "metadata": {
    "Collapsed": "false"
   },
   "source": [
    "<a id='scipy'></a>\n",
    "## 5 Scientific Python\n",
    "\n",
    "Below are the basic packages used for scientific computing and data science.\n",
    "* [NumPy](https://www.numpy.org): N-dimensional arrays\n",
    "* [SciPy](https://www.scipy.org/scipylib/index.html): scientific computing\n",
    "* [matplotlib](https://matplotlib.org): powerful visualization\n",
    "* [pandas](https://pandas.pydata.org): data analysis\n",
    "\n",
    "**Want to learn more?** Look at the [Scipy Lecture Notes](https://www.scipy-lectures.org/).\n",
    "\n",
    "Finally, the below packages will be useful to work with networks and graphs.\n",
    "* [NetworkX](https://networkx.github.io): network science\n",
    "* [graph-tool](https://graph-tool.skewed.de): network science\n",
    "* [scikit-learn](https://scikit-learn.org): graph embedding (dimensionality reduction)\n",
    "* [PyGSP](https://github.com/epfl-lts2/pygsp): graph signal processing\n",
    "* [Deep Graph Library](https://www.dgl.ai): deep learning on graphs with [PyTorch](https://pytorch.org)"
   ]
  },
  {
   "cell_type": "markdown",
   "metadata": {
    "Collapsed": "false"
   },
   "source": [
    "<a id='improve'></a>\n",
    "## 6 Ressources to improve your Python skills (for experienced Python users)\n",
    "\n",
    "We provide a non exhaustive list of tools and concepts that can help you improve your Python coding skills.\n",
    "They are by no means things that you need to master immediately.\n",
    "\n",
    "* Numpy and pytorch indexing and broadcasting rules.\n",
    "  They take some time to understand, but are really essential.\n",
    "  They will help you avoid writing loops, which are considerably slower and sometimes memory inefficient.\n",
    "  * <https://numpy.org/devdocs/user/basics.indexing.html#basics-indexing>\n",
    "  * <https://numpy.org/devdocs/user/basics.broadcasting.html>\n",
    "  * <https://numpy.org/devdocs/user/theory.broadcasting.html>\n",
    "  * <https://pytorch.org/docs/stable/notes/broadcasting.html>\n",
    "\n",
    "\n",
    "* Some common Python built-in functions.\n",
    "  * [`enumerate`](https://docs.python.org/3/library/functions.html#enumerate)\n",
    "  * [`zip`](https://docs.python.org/3/library/functions.html#zip)\n",
    "  * [`itertools.product`](https://docs.python.org/3/library/itertools.html#itertools.product)\n",
    "\n",
    "\n",
    "* Scipy functions.\n",
    "  * `pdist` and `cdist` are considerably faster than loops to compute pairwise distances between objects (e.g., to build a nearest neighbors graph).\n",
    "    * <https://docs.scipy.org/doc/scipy/reference/generated/scipy.spatial.distance.pdist.html>\n",
    "    * <https://docs.scipy.org/doc/scipy/reference/generated/scipy.spatial.distance.cdist.html>\n",
    "\n",
    "\n",
    "* Object-oriented programming.\n",
    "  * Classes.\n",
    "    * <https://towardsdatascience.com/object-oriented-programming-for-data-scientists-build-your-ml-estimator-7da416751f64>\n",
    "    * Read the source code of libraries you commonly use, and try to understand how they organize it. In particular, we advise you to write your methods as in the scikit-learn API.\n",
    "    * <https://docs.python.org/3/tutorial/classes.html>\n",
    "  * Inheritance.\n",
    "    When you implement different models that have the same role (such as different machine learning classifiers), base methods allow you to avoid writing the same code several times.\n",
    "    * <https://docs.python.org/3/tutorial/classes.html>\n",
    "  * Abstract methods.\n",
    "    They allow you to tell which methods subclassses (of the base class) should implement.\n",
    "    * <https://www.geeksforgeeks.org/abstract-classes-in-python>\n",
    "    * <https://docs.python.org/3/library/abc.html>\n",
    "\n",
    "\n",
    "* Google python style guide.\n",
    "  Not essential, but following these rules make things easier when you work in a group.\n",
    "  * <https://github.com/google/styleguide/blob/gh-pages/pyguide.md>\n",
    " \n",
    "\n",
    "* Unit tests.\n",
    "  * <https://medium.com/@keeper6928/how-to-unit-test-machine-learning-code-57cf6fd81765>\n",
    "  * <https://docs.python.org/3/library/unittest.html>"
   ]
  }
 ],
 "metadata": {
  "kernelspec": {
   "display_name": "Python 3",
   "language": "python",
   "name": "python3"
  },
  "language_info": {
   "codemirror_mode": {
    "name": "ipython",
    "version": 3
   },
   "file_extension": ".py",
   "mimetype": "text/x-python",
   "name": "python",
   "nbconvert_exporter": "python",
   "pygments_lexer": "ipython3",
   "version": "3.7.3"
  }
 },
 "nbformat": 4,
 "nbformat_minor": 4
}
